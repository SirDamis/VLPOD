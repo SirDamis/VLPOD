{
  "nbformat": 4,
  "nbformat_minor": 0,
  "metadata": {
    "colab": {
      "name": "Custom Object Detection 2.ipynb",
      "provenance": [],
      "collapsed_sections": [],
      "authorship_tag": "ABX9TyNB4o4+P3+27M3GXp1Evfdi",
      "include_colab_link": true
    },
    "kernelspec": {
      "name": "python3",
      "display_name": "Python 3"
    },
    "language_info": {
      "name": "python"
    }
  },
  "cells": [
    {
      "cell_type": "markdown",
      "metadata": {
        "id": "view-in-github",
        "colab_type": "text"
      },
      "source": [
        "<a href=\"https://colab.research.google.com/github/SirDamis/VLPOD/blob/master/Custom_Object_Detection_2.ipynb\" target=\"_parent\"><img src=\"https://colab.research.google.com/assets/colab-badge.svg\" alt=\"Open In Colab\"/></a>"
      ]
    },
    {
      "cell_type": "code",
      "metadata": {
        "id": "nlq9DoS7yURa",
        "colab": {
          "base_uri": "https://localhost:8080/"
        },
        "outputId": "4b4a3d8a-5338-4b0b-8d13-5faf64b387a1"
      },
      "source": [
        "from google.colab import drive\n",
        "drive.mount('/content/drive')"
      ],
      "execution_count": 1,
      "outputs": [
        {
          "output_type": "stream",
          "name": "stdout",
          "text": [
            "Mounted at /content/drive\n"
          ]
        }
      ]
    },
    {
      "cell_type": "code",
      "source": [
        "%cd /content/drive/MyDrive/"
      ],
      "metadata": {
        "colab": {
          "base_uri": "https://localhost:8080/"
        },
        "id": "vjP2Ea_jilqv",
        "outputId": "8a10fdf0-f149-4424-e298-7ca5dcb2c936"
      },
      "execution_count": null,
      "outputs": [
        {
          "output_type": "stream",
          "name": "stdout",
          "text": [
            "/content/drive/MyDrive/Google Image Downloader\n"
          ]
        }
      ]
    },
    {
      "cell_type": "code",
      "source": [
        ""
      ],
      "metadata": {
        "id": "fMqoK3kiK6hx"
      },
      "execution_count": null,
      "outputs": []
    },
    {
      "cell_type": "code",
      "source": [
        "# Script to scrape images from Google Images\n",
        "!git clone https://github.com/Joeclinton1/google-images-download.git\n",
        "!cd google-images-download && sudo python setup.py install\n",
        "!googleimagesdownload --keywords \"Vehicle License Plate\" --limit 10"
      ],
      "metadata": {
        "id": "6PuTw_xqi3ve"
      },
      "execution_count": null,
      "outputs": []
    },
    {
      "cell_type": "code",
      "source": [
        "# Script to upload to Roboflow via API\n"
      ],
      "metadata": {
        "id": "_GAUqRDvKxwh"
      },
      "execution_count": null,
      "outputs": []
    }
  ]
}